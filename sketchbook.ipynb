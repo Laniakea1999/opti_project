{
 "cells": [
  {
   "cell_type": "code",
   "execution_count": 1,
   "metadata": {},
   "outputs": [],
   "source": [
    "import numpy as np\n",
    "import pandas as pd\n",
    "from matplotlib import pyplot as plt\n",
    "import seaborn as sns\n",
    "\n",
    "from sklearn import datasets\n",
    "from sklearn.model_selection import train_test_split\n",
    "from sklearn.metrics import accuracy_score,classification_report, confusion_matrix\n",
    "from sklearn import preprocessing\n",
    "\n",
    "from sklearn import metrics\n",
    "\n",
    "\n",
    "from helpers import *\n",
    "from network.network import Network\n",
    "\n",
    "%matplotlib inline"
   ]
  },
  {
   "cell_type": "code",
   "execution_count": 2,
   "metadata": {},
   "outputs": [],
   "source": [
    "# MNIST 8x8\n",
    "\n",
    "dataset = datasets.load_digits()\n",
    "\n",
    "# Since this is mnist, reshape the data\n",
    "X = dataset.images.reshape((len(dataset.images), -1))\n",
    "y = dataset.target"
   ]
  },
  {
   "cell_type": "code",
   "execution_count": 3,
   "metadata": {},
   "outputs": [],
   "source": [
    "# IRIS dataset\n",
    "\n",
    "#dataset = datasets.load_iris()\n",
    "#X = preprocessing.scale(dataset.data)\n",
    "#y = dataset.target"
   ]
  },
  {
   "cell_type": "code",
   "execution_count": 4,
   "metadata": {},
   "outputs": [],
   "source": [
    "# Wine dataset\n",
    "\n",
    "#dataset = datasets.load_wine()\n",
    "#X = preprocessing.scale(dataset.data)\n",
    "#y = dataset.target"
   ]
  },
  {
   "cell_type": "code",
   "execution_count": 5,
   "metadata": {},
   "outputs": [
    {
     "name": "stdout",
     "output_type": "stream",
     "text": [
      "\u001b[42m\u001b[1m\u001b[37m   OK:  \u001b[0m Done loading network. \t\t[3 vertices, 3 edges]\n"
     ]
    }
   ],
   "source": [
    "net = Network.from_stream('data/topologies/triangle')"
   ]
  },
  {
   "cell_type": "code",
   "execution_count": 6,
   "metadata": {},
   "outputs": [],
   "source": [
    "# Split data into train and test subsets\n",
    "X_train, X_test, y_train, y_test = train_test_split(\n",
    "    X, y, test_size=0.5, shuffle=True\n",
    ")"
   ]
  },
  {
   "cell_type": "code",
   "execution_count": 7,
   "metadata": {},
   "outputs": [
    {
     "name": "stdout",
     "output_type": "stream",
     "text": [
      "\u001b[42m\u001b[1m\u001b[37m   OK:  \u001b[0m Distributed data to all nodes.\t[~300 rows per node]\n"
     ]
    }
   ],
   "source": [
    "net.set_data(X_train, X_test, y_train, y_test)"
   ]
  },
  {
   "cell_type": "code",
   "execution_count": 8,
   "metadata": {},
   "outputs": [
    {
     "name": "stdout",
     "output_type": "stream",
     "text": [
      "\n",
      "Training weights over network...\n"
     ]
    },
    {
     "name": "stderr",
     "output_type": "stream",
     "text": [
      "100%|██████████| 1000/1000 [00:44<00:00, 22.32it/s]"
     ]
    },
    {
     "name": "stdout",
     "output_type": "stream",
     "text": [
      "\n",
      "\u001b[42m\u001b[1m\u001b[37m   OK:  \u001b[0m Model has been trained.\t[Max number of iterations reached]\n"
     ]
    },
    {
     "name": "stderr",
     "output_type": "stream",
     "text": [
      "\n"
     ]
    }
   ],
   "source": [
    "import strategy.strategy as strat\n",
    "from importlib import reload\n",
    "\n",
    "reload(strat)\n",
    "\n",
    "classes = np.unique(dataset.target)\n",
    "\n",
    "strat.aggregate = strat.aggregate_sgd(classes)\n",
    "strat.compute = strat.compute_sgd()\n",
    "strat.convergence_loss = metrics.mean_squared_error\n",
    "\n",
    "# loss{‘hinge’, ‘log_loss’, ‘modified_huber’, ‘squared_hinge’, ‘perceptron’, ‘squared_error’, ‘huber’, ‘epsilon_insensitive’, ‘squared_epsilon_insensitive’}\n",
    "\n",
    "strat.reconstruct = strat.reconstruct_sgd(loss='squared_error', alpha=50.0, penalty='l2', max_iter=5)\n",
    "\n",
    "# This cell easily becomes fussy when there are too few datapoints per node,\n",
    "# as some nodes then have too small a sample of the dataset to perform the correct task\n",
    "# (in the worst case, some may only have one class of labels, or only two labels, making it\n",
    "# a binary classification problem). If this is the case, reload the notebook and run all cells again\n",
    "net.train_weights(\n",
    "    max_iterations=1000,\n",
    "    threshold=0.1\n",
    "    )"
   ]
  },
  {
   "cell_type": "code",
   "execution_count": 9,
   "metadata": {},
   "outputs": [
    {
     "name": "stdout",
     "output_type": "stream",
     "text": [
      "\tBest candidate: \t\u001b[37m0\u001b[0m\tloss: 3.2547\n"
     ]
    }
   ],
   "source": [
    "loss, best_candidate = net.get_best_candidate()\n",
    "print_metric(f\"Best candidate\", best_candidate, f\"loss: {loss:.4f}\")"
   ]
  },
  {
   "cell_type": "code",
   "execution_count": 10,
   "metadata": {},
   "outputs": [
    {
     "name": "stdout",
     "output_type": "stream",
     "text": [
      "Accuracy : 0.8520578420467185\n",
      "              precision    recall  f1-score   support\n",
      "\n",
      "           0       0.98      0.96      0.97        95\n",
      "           1       0.75      0.78      0.77        88\n",
      "           2       0.91      0.94      0.93        89\n",
      "           3       0.90      0.83      0.86       103\n",
      "           4       0.95      0.95      0.95        92\n",
      "           5       0.95      0.76      0.84        92\n",
      "           6       0.89      0.99      0.94        92\n",
      "           7       0.73      0.99      0.84        70\n",
      "           8       0.97      0.39      0.56        82\n",
      "           9       0.66      0.91      0.77        96\n",
      "\n",
      "    accuracy                           0.85       899\n",
      "   macro avg       0.87      0.85      0.84       899\n",
      "weighted avg       0.87      0.85      0.85       899\n",
      "\n"
     ]
    }
   ],
   "source": [
    "clf = net.build_model()\n",
    "\n",
    "result = clf.predict(X_test)\n",
    "\n",
    "print('Accuracy :',accuracy_score(y_test,result))\n",
    "print(classification_report(y_test,result, zero_division=0))"
   ]
  },
  {
   "cell_type": "code",
   "execution_count": 11,
   "metadata": {},
   "outputs": [
    {
     "data": {
      "image/png": "[encoded data removed]",
      "text/plain": [
       "<Figure size 432x288 with 2 Axes>"
      ]
     },
     "metadata": {
      "needs_background": "light"
     },
     "output_type": "display_data"
    }
   ],
   "source": [
    "ax = sns.heatmap(confusion_matrix(y_test, result), annot=True, cmap='Blues')\n",
    "ax.set_xlabel('\\nPredicted Values')\n",
    "ax.set_ylabel('Actual Values ');\n",
    "plt.show()"
   ]
  },
  {
   "cell_type": "code",
   "execution_count": 12,
   "metadata": {},
   "outputs": [
    {
     "data": {
      "image/png": "[encoded data removed]",
      "text/plain": [
       "<Figure size 864x504 with 1 Axes>"
      ]
     },
     "metadata": {},
     "output_type": "display_data"
    }
   ],
   "source": [
    "fig = draw_graph(net.nodes.values(), net.links)\n",
    "plt.show(fig)"
   ]
  },
  {
   "cell_type": "code",
   "execution_count": 13,
   "metadata": {},
   "outputs": [
    {
     "name": "stdout",
     "output_type": "stream",
     "text": [
      "0: 3.2547274749721913\n",
      "1: 4.575083426028921\n",
      "2: 6.176863181312569\n"
     ]
    }
   ],
   "source": [
    "for n, node in net.nodes.items():\n",
    "    print(f\"{n}: {node.loss}\")"
   ]
  },
  {
   "cell_type": "code",
   "execution_count": 14,
   "metadata": {},
   "outputs": [
    {
     "data": {
      "image/png": "[encoded data removed]",
      "text/plain": [
       "<Figure size 720x216 with 4 Axes>"
      ]
     },
     "metadata": {
      "needs_background": "light"
     },
     "output_type": "display_data"
    }
   ],
   "source": [
    "_, axes = plt.subplots(nrows=1, ncols=4, figsize=(10, 3))\n",
    "for ax, image, prediction in zip(axes, X_test, result):\n",
    "    ax.set_axis_off()\n",
    "    image = image.reshape(8, 8)\n",
    "    ax.imshow(image, cmap=plt.cm.gray_r, interpolation=\"nearest\")\n",
    "    ax.set_title(f\"Prediction: {prediction}\")"
   ]
  }
 ],
 "metadata": {
  "kernelspec": {
   "display_name": "Python 3.8.9 64-bit",
   "language": "python",
   "name": "python3"
  },
  "language_info": {
   "codemirror_mode": {
    "name": "ipython",
    "version": 3
   },
   "file_extension": ".py",
   "mimetype": "text/x-python",
   "name": "python",
   "nbconvert_exporter": "python",
   "pygments_lexer": "ipython3",
   "version": "3.8.9"
  },
  "orig_nbformat": 4,
  "vscode": {
   "interpreter": {
    "hash": "31f2aee4e71d21fbe5cf8b01ff0e069b9275f58929596ceb00d14d90e3e16cd6"
   }
  }
 },
 "nbformat": 4,
 "nbformat_minor": 2
}
